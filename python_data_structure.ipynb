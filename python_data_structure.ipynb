{
  "nbformat": 4,
  "nbformat_minor": 0,
  "metadata": {
    "colab": {
      "provenance": []
    },
    "kernelspec": {
      "name": "python3",
      "display_name": "Python 3"
    },
    "language_info": {
      "name": "python"
    }
  },
  "cells": [
    {
      "cell_type": "code",
      "execution_count": 1,
      "metadata": {
        "colab": {
          "base_uri": "https://localhost:8080/",
          "height": 35
        },
        "id": "XeZSSSi287JG",
        "outputId": "06ada42c-a383-416a-8afa-944fda3b5ade"
      },
      "outputs": [
        {
          "output_type": "execute_result",
          "data": {
            "text/plain": [
              "'j'"
            ],
            "application/vnd.google.colaboratory.intrinsic+json": {
              "type": "string"
            }
          },
          "metadata": {},
          "execution_count": 1
        }
      ],
      "source": [
        "#  Discuss string slicing and provide examples\n",
        "#Ans) string slicing is a way to obtain a sub string from the original string\n",
        "#example:\n",
        "s=\"Ajay\"\n",
        "s[1:2]\n"
      ]
    },
    {
      "cell_type": "code",
      "source": [
        "s=\"PWSKILLS\"\n",
        "s[1:5]\n"
      ],
      "metadata": {
        "colab": {
          "base_uri": "https://localhost:8080/",
          "height": 36
        },
        "id": "qKvRpCX-9iGG",
        "outputId": "d9a78645-ec30-4194-f173-baff0e63f8eb"
      },
      "execution_count": null,
      "outputs": [
        {
          "output_type": "execute_result",
          "data": {
            "text/plain": [
              "'WSKI'"
            ],
            "application/vnd.google.colaboratory.intrinsic+json": {
              "type": "string"
            }
          },
          "metadata": {},
          "execution_count": 2
        }
      ]
    },
    {
      "cell_type": "code",
      "source": [
        "s=\"PYTHON\"\n",
        "s[:]"
      ],
      "metadata": {
        "colab": {
          "base_uri": "https://localhost:8080/",
          "height": 36
        },
        "id": "KVBcQJGG9l9A",
        "outputId": "fefd83a8-b4ff-4887-fe2c-fb9da81f87b4"
      },
      "execution_count": null,
      "outputs": [
        {
          "output_type": "execute_result",
          "data": {
            "text/plain": [
              "'PYTHON'"
            ],
            "application/vnd.google.colaboratory.intrinsic+json": {
              "type": "string"
            }
          },
          "metadata": {},
          "execution_count": 3
        }
      ]
    },
    {
      "cell_type": "code",
      "source": [
        "s=\"INDIA\"\n",
        "s[::-1]\n"
      ],
      "metadata": {
        "colab": {
          "base_uri": "https://localhost:8080/",
          "height": 36
        },
        "id": "0yhSfo7Z9q9n",
        "outputId": "2dcead23-cd2b-4168-9202-35615ec3ffd4"
      },
      "execution_count": null,
      "outputs": [
        {
          "output_type": "execute_result",
          "data": {
            "text/plain": [
              "'AIDNI'"
            ],
            "application/vnd.google.colaboratory.intrinsic+json": {
              "type": "string"
            }
          },
          "metadata": {},
          "execution_count": 4
        }
      ]
    },
    {
      "cell_type": "code",
      "source": [
        "# Explain the key features of lists in Python\n",
        "#features:\n",
        "#1)ordered structure\n",
        "#2)hetrogenous datastructure\n",
        "#3)mutable\n",
        "#4)trailing comma is allowed\n",
        "#5)Symbol:[]\n",
        "#6)can store n number of elements"
      ],
      "metadata": {
        "id": "04bm3Xs39vxo"
      },
      "execution_count": null,
      "outputs": []
    },
    {
      "cell_type": "code",
      "source": [
        "# Describe how to access, modify, and delete elements in a list with examples\n",
        "#Access:we can acess any  element of list by its index no or slicing\n"
      ],
      "metadata": {
        "id": "5C1pIEOJ-S6k"
      },
      "execution_count": null,
      "outputs": []
    },
    {
      "cell_type": "code",
      "source": [
        "s=[1,2,3,4,5]\n",
        "s[1]\n"
      ],
      "metadata": {
        "colab": {
          "base_uri": "https://localhost:8080/"
        },
        "id": "LEPnuffq-yVo",
        "outputId": "7db509dc-5dcf-4a89-d35b-30025bf78337"
      },
      "execution_count": null,
      "outputs": [
        {
          "output_type": "execute_result",
          "data": {
            "text/plain": [
              "2"
            ]
          },
          "metadata": {},
          "execution_count": 5
        }
      ]
    },
    {
      "cell_type": "code",
      "source": [
        "s[3]"
      ],
      "metadata": {
        "colab": {
          "base_uri": "https://localhost:8080/"
        },
        "id": "jjb7gcUf-1d8",
        "outputId": "893eb1d5-6e18-4433-aaa0-8ca78cc5c5f8"
      },
      "execution_count": null,
      "outputs": [
        {
          "output_type": "execute_result",
          "data": {
            "text/plain": [
              "4"
            ]
          },
          "metadata": {},
          "execution_count": 6
        }
      ]
    },
    {
      "cell_type": "code",
      "source": [
        "s[1:2]"
      ],
      "metadata": {
        "colab": {
          "base_uri": "https://localhost:8080/"
        },
        "id": "49nKHydV-2kk",
        "outputId": "181ff4f1-5162-4293-b0ca-001c89d08237"
      },
      "execution_count": null,
      "outputs": [
        {
          "output_type": "execute_result",
          "data": {
            "text/plain": [
              "[2]"
            ]
          },
          "metadata": {},
          "execution_count": 7
        }
      ]
    },
    {
      "cell_type": "code",
      "source": [
        "#Modify\n",
        "s=[1,2,3,4,5,6]\n",
        "s[0]=22\n",
        "s"
      ],
      "metadata": {
        "colab": {
          "base_uri": "https://localhost:8080/"
        },
        "id": "UfbOO4h5-5S0",
        "outputId": "91d2ebad-51d1-46e9-b93d-14a65694fc1c"
      },
      "execution_count": null,
      "outputs": [
        {
          "output_type": "execute_result",
          "data": {
            "text/plain": [
              "[22, 2, 3, 4, 5, 6]"
            ]
          },
          "metadata": {},
          "execution_count": 10
        }
      ]
    },
    {
      "cell_type": "code",
      "source": [
        "s[:4]=[22,33,44]\n",
        "s\n"
      ],
      "metadata": {
        "colab": {
          "base_uri": "https://localhost:8080/"
        },
        "id": "BLOgN4El_DdX",
        "outputId": "cef005b7-014c-43e7-d8c1-2f47a55f7780"
      },
      "execution_count": null,
      "outputs": [
        {
          "output_type": "execute_result",
          "data": {
            "text/plain": [
              "[22, 33, 44, 6]"
            ]
          },
          "metadata": {},
          "execution_count": 12
        }
      ]
    },
    {
      "cell_type": "code",
      "source": [
        "#delete a element list\n",
        "#1 by remove function\n",
        "s=[1,2,3,4]\n",
        "s.remove(2)\n",
        "s"
      ],
      "metadata": {
        "colab": {
          "base_uri": "https://localhost:8080/"
        },
        "id": "H--VrT7o_ODb",
        "outputId": "df7bbf52-2e66-4062-e68f-3228de63d478"
      },
      "execution_count": null,
      "outputs": [
        {
          "output_type": "execute_result",
          "data": {
            "text/plain": [
              "[1, 3, 4]"
            ]
          },
          "metadata": {},
          "execution_count": 16
        }
      ]
    },
    {
      "cell_type": "code",
      "source": [
        "#2 by pop function\n",
        "s=[1,2,3,4,5,6]\n",
        "s.pop()\n",
        "s"
      ],
      "metadata": {
        "colab": {
          "base_uri": "https://localhost:8080/"
        },
        "id": "hYDvGitN_cg7",
        "outputId": "960f68e9-bd66-4b3a-c9ea-21d8e07d2692"
      },
      "execution_count": null,
      "outputs": [
        {
          "output_type": "execute_result",
          "data": {
            "text/plain": [
              "[1, 2, 3, 4, 5]"
            ]
          },
          "metadata": {},
          "execution_count": 19
        }
      ]
    },
    {
      "cell_type": "code",
      "source": [
        "#3 by del function\n",
        "del s[0]\n",
        "s"
      ],
      "metadata": {
        "colab": {
          "base_uri": "https://localhost:8080/"
        },
        "id": "bljHmHJv_0L0",
        "outputId": "ed8ffe82-33d4-4ae4-e751-1aea26ec3844"
      },
      "execution_count": null,
      "outputs": [
        {
          "output_type": "execute_result",
          "data": {
            "text/plain": [
              "[3, 4, 5]"
            ]
          },
          "metadata": {},
          "execution_count": 22
        }
      ]
    },
    {
      "cell_type": "code",
      "source": [
        "# Compare and contrast tuples and lists with examples\n",
        "#tuples vs list\n",
        "#tuples symbol:()\n",
        "#list symbol:[]\n",
        "#tuples are immutable whereas list are mutable\n",
        "#comprehension is possible in list but not possible in tuples\n",
        "#we can delete insert and modify a element in list but not in tuple\n"
      ],
      "metadata": {
        "id": "4OFgSbcb_-sp"
      },
      "execution_count": null,
      "outputs": []
    },
    {
      "cell_type": "code",
      "source": [
        "#contrast\n",
        "#tuple is immutable list\n",
        "#tuple and list both have almost same function\n",
        "#both are ordered datastructure\n",
        "#tuples and list both can perform slicing\n",
        "#both are hetrogenous"
      ],
      "metadata": {
        "id": "EX2IJqczAqyC"
      },
      "execution_count": 3,
      "outputs": []
    },
    {
      "cell_type": "code",
      "source": [
        "# Describe the key features of sets and provide examples of their use\n",
        "#Uniqueness:\n",
        "#Unordered:\n",
        "#Mutable:\n",
        "#Immutable Counterpart (frozenset):"
      ],
      "metadata": {
        "id": "7eAmAk2CBDvU"
      },
      "execution_count": null,
      "outputs": []
    },
    {
      "cell_type": "code",
      "source": [
        " #Discuss the use cases of tuples and sets in Python programming\n",
        " # Tuples and sets are fundamental data structures in Python, each with specific use cases based on their properties.\n",
        "\n",
        "# TUPLES:\n",
        "# 1. Immutability: Tuples are immutable, meaning once they are created, their elements cannot be changed.\n",
        "#    Use Case: Ideal for storing data that should not be modified, like coordinates, dates, or configuration settings.\n",
        "coordinates = (40.7128, -74.0060)  # Example: Latitude and longitude coordinates\n",
        "\n",
        "# 2. Heterogeneous data: Tuples can store elements of different data types.\n",
        "#    Use Case: Suitable for grouping related but different types of data.\n",
        "person_info = (\"John\", 30, \"Engineer\")  # Example: Storing name, age, and profession together\n",
        "\n",
        "# 3. Dictionary keys: Since tuples are hashable, they can be used as keys in dictionaries.\n",
        "#    Use Case: Useful when you need a compound key in a dictionary.\n",
        "employee_salaries = {(\"John\", \"Doe\"): 75000, (\"Jane\", \"Doe\"): 80000}  # Example: Storing salaries based on full name\n",
        "\n",
        "# 4. Return multiple values from a function: Tuples are often used to return multiple values from a function.\n",
        "#    Use Case: Convenient for returning multiple related pieces of data.\n",
        "def get_student_info():\n",
        "    return \"Alice\", 22, \"Computer Science\"  # Example: Function returning name, age, and major\n",
        "name, age, major = get_student_info()  # Example: Unpacking the returned tuple\n",
        "\n",
        "# SETS:\n",
        "# 1. Uniqueness: Sets automatically ensure that all elements are unique.\n",
        "#    Use Case: Useful for removing duplicates from a list or ensuring unique elements.\n",
        "unique_numbers = set([1, 2, 2, 3, 4, 4, 5])  # Example: Removing duplicates from a list\n",
        "\n",
        "# 2. Membership testing: Sets provide fast membership testing due to their underlying hash table implementation.\n",
        "#    Use Case: Ideal for checking the existence of an element in a large dataset.\n",
        "allowed_users = {\"Alice\", \"Bob\", \"Charlie\"}  # Example: Set of allowed users\n",
        "is_allowed = \"Alice\" in allowed_users  # Example: Checking if \"Alice\" is an allowed user\n",
        "\n",
        "# 3. Set operations: Sets support mathematical operations like union, intersection, and difference.\n",
        "#    Use Case: Handy for tasks that involve comparing datasets, like finding common or unique items.\n",
        "students_a = {\"Alice\", \"Bob\", \"Charlie\"}\n",
        "students_b = {\"Charlie\", \"David\", \"Eve\"}\n",
        "common_students = students_a & students_b  # Example: Finding students common to both sets\n",
        "\n",
        "# 4. Efficient data structure: Sets are more efficient than lists for operations like membership testing and set operations.\n",
        "#    Use Case: Preferred when these operations are frequently performed, especially with large datasets.\n",
        "large_dataset = {i for i in range(1000000)}  # Example: Efficiently storing a large dataset for fast operations\n"
      ],
      "metadata": {
        "id": "T_tBSrjaCmHf"
      },
      "execution_count": null,
      "outputs": []
    },
    {
      "cell_type": "code",
      "source": [
        "# Describe how to add, modify, and delete items in a dictionary with examples\n",
        "\n",
        "# Dictionaries in Python are mutable, allowing you to add, modify, and delete items. Below are examples of each operation.\n",
        "\n",
        "# ADDING ITEMS:\n",
        "# 1. Adding a new key-value pair: Simply assign a value to a new key.\n",
        "#    Example: Adding a new item to a dictionary of student grades.\n",
        "grades = {\"Alice\": 85, \"Bob\": 90}\n",
        "grades[\"Charlie\"] = 88  # Adding a new student \"Charlie\" with a grade of 88\n",
        "\n",
        "# MODIFYING ITEMS:\n",
        "# 1. Updating the value of an existing key: Assign a new value to an existing key.\n",
        "#    Example: Changing the grade of an existing student.\n",
        "grades[\"Alice\"] = 95  # Modifying \"Alice\"'s grade to 95\n",
        "\n",
        "# 2. Using the `update()` method: This method can be used to modify multiple key-value pairs at once.\n",
        "#    Example: Updating grades for multiple students at the same time.\n",
        "grades.update({\"Bob\": 92, \"Charlie\": 89})  # Updating grades for \"Bob\" and \"Charlie\"\n",
        "\n",
        "# DELETING ITEMS:\n",
        "# 1. Using the `del` keyword: Removes a specific key-value pair by key.\n",
        "#    Example: Removing a student from the dictionary.\n",
        "del grades[\"Bob\"]  # Deleting \"Bob\" from the dictionary\n",
        "\n",
        "# 2. Using the `pop()` method: Removes a key-value pair and returns the value.\n",
        "#    Example: Removing a student and getting their grade.\n",
        "charlie_grade = grades.pop(\"Charlie\")  # Removing \"Charlie\" and storing his grade in `charlie_grade`\n",
        "\n",
        "# 3. Using the `clear()` method: Removes all items from the dictionary.\n",
        "#    Example: Clearing the entire dictionary of grades.\n",
        "grades.clear()  # Removing all items from the dictionary, leaving it empty\n"
      ],
      "metadata": {
        "id": "r1g6MBjZk7Fj"
      },
      "execution_count": null,
      "outputs": []
    },
    {
      "cell_type": "code",
      "source": [
        "#Discuss the importance of dictionary keys being immutable and provide examples.\n",
        "# In Python, dictionary keys must be immutable, meaning they cannot be changed after creation. This immutability is crucial for several reasons.\n",
        "\n",
        "# 1. Hashability: Dictionary keys must be hashable to ensure fast access and retrieval of values.\n",
        "#    Example: Immutable types like strings, numbers, and tuples can be used as dictionary keys because they have a fixed hash value.\n",
        "phonebook = {\"Alice\": \"123-4567\", \"Bob\": \"987-6543\"}  # Strings are immutable, so they can be used as keys\n",
        "\n",
        "# 2. Consistent Access: If a key could change, it would make accessing the corresponding value unreliable.\n",
        "#    Example: If a list (which is mutable) were allowed as a key, modifying the list would prevent access to the original value.\n",
        "# phonebook = {[\"Alice\", \"Bob\"]: \"123-4567\"}  # This would raise a TypeError because lists are mutable\n",
        "\n",
        "# 3. Performance: Dictionaries rely on the hash value of keys to quickly locate values. If keys were mutable, their hash value could change, leading to performance issues and errors.\n",
        "#    Example: Using an immutable tuple as a key ensures that the key's hash value remains constant.\n",
        "student_scores = {(\"Alice\", \"Math\"): 95, (\"Bob\", \"Science\"): 88}  # Tuples are immutable and safe to use as keys\n",
        "\n",
        "# 4. Data Integrity: Immutability prevents accidental changes to keys, maintaining the integrity of the dictionary structure.\n",
        "#    Example: Using an integer as a key prevents accidental modifications, ensuring the data remains accurate.\n",
        "inventory = {101: \"Apples\", 102: \"Oranges\"}  # Integers are immutable and reliable as keys\n",
        "\n",
        "# 5. Uniqueness and Comparison: Immutability allows for consistent comparison of keys, ensuring that duplicate keys do not exist in the dictionary.\n",
        "#    Example: If keys were mutable, comparisons could lead to unexpected behavior.\n",
        "coordinates_map = {(40.7128, -74.0060): \"New York\", (34.0522, -118.2437): \"Los Angeles\"}  # Immutable tuples ensure accurate key comparison\n",
        "\n",
        "# Summary: The immutability of dictionary keys is fundamental to the efficiency, reliability, and correctness of dictionaries in Python. Immutable keys ensure that the dictionary's internal structure is maintained and that key-value pairs can be accessed consistently.\n"
      ],
      "metadata": {
        "id": "QuTiUmVwlCWw"
      },
      "execution_count": null,
      "outputs": []
    }
  ]
}